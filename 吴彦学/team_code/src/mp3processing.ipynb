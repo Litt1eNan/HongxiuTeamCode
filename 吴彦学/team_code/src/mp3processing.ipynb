{
 "cells": [
  {
   "cell_type": "code",
   "execution_count": null,
   "id": "032060d6",
   "metadata": {},
   "outputs": [],
   "source": [
    "%pip install pydub\n"
   ]
  },
  {
   "cell_type": "code",
   "execution_count": null,
   "id": "1d4102a3",
   "metadata": {},
   "outputs": [],
   "source": [
    "from pydub import AudioSegment\n",
    "base_path = \"D:\\\\CloudMusic\\\\电台节目\\\\二中街的男人 - ④艾宝良-鬼吹灯第1部第3卷-云南虫谷001.mp3\"\n",
    "start_time = \"1:10\"\n",
    "stop_time = \"1:20\"\n",
    "start_time = (int(start_time.split(':')[0]) * 60 + int(start_time.split(':')[1])) * 1000\n",
    "stop_time = (int(stop_time.split(':')[0]) * 60 + int(stop_time.split(':')[1])) * 1000\n",
    "sound = None\n",
    "for i in range(1, 61):\n",
    "    base_path1 = \"D:\\\\CloudMusic\\\\电台节目\\\\二中街的男人 - ④艾宝良-鬼吹灯第1部第3卷-云南虫谷{:03d}.mp3\".format(i)\n",
    "    sound1 = AudioSegment.from_mp3(base_path1)\n",
    "    # Sampling the audio\n",
    "    # _sound1 = sound1[start_time:start_time+2]\n",
    "    # print(sound1.frame_count())\n",
    "    # count = 0\n",
    "    # for i in range(start_time+2, int(sound1.frame_count()) - stop_time, 5):\n",
    "    #     _sound1.append(sound1[i:i+4],crossfade=0)\n",
    "    #     count += 1\n",
    "    #     if count % 2000 == 0:\n",
    "    #         print(\"\\r{}\".format(i), end=\"\")\n",
    "    # sound1 = _sound1\n",
    "    if sound is None:\n",
    "        sound = sound1\n",
    "    else: \n",
    "        sound = sound + sound1\n",
    "    if i % 10 == 0:    \n",
    "        save_name = \"D:\\\\CloudMusic\\\\电台节目\\\\云南虫谷{}-{}.mp3\".format(i-9,i)\n",
    "        \n",
    "        sound.export(save_name, \n",
    "                     format=\"mp3\", \n",
    "                     tags={'artist': 'AppLeU0', 'album': save_name[:-4]})\n",
    "        del sound\n",
    "        sound = None\n",
    "    print(i)"
   ]
  },
  {
   "cell_type": "code",
   "execution_count": null,
   "id": "edda1083",
   "metadata": {},
   "outputs": [],
   "source": [
    "import os\n",
    "basepath = \"H:\\\\周杰伦-歌曲集\"\n",
    "dirs = os.listdir(basepath)\n",
    "\n",
    "for i, d in enumerate(dirs):\n",
    "    print(d)\n",
    "    a_path = os.path.join(basepath, d)\n",
    "    r_name = \"\".join(d.split(\" \"))\n",
    "    try:\n",
    "        r_name = r_name.split(\".\")[1] + \".\" + r_name.split(\".\")[2]\n",
    "    except: pass\n",
    "    r_name = \"{:03d}.\".format(i) + r_name\n",
    "    a_path1 = os.path.join(basepath, r_name)\n",
    "    os.rename(a_path, a_path1)"
   ]
  }
 ],
 "metadata": {
  "kernelspec": {
   "display_name": "Python 3.8.12 ('python38')",
   "language": "python",
   "name": "python3"
  },
  "language_info": {
   "codemirror_mode": {
    "name": "ipython",
    "version": 3
   },
   "file_extension": ".py",
   "mimetype": "text/x-python",
   "name": "python",
   "nbconvert_exporter": "python",
   "pygments_lexer": "ipython3",
   "version": "3.8.12"
  },
  "vscode": {
   "interpreter": {
    "hash": "68c4b5d037ece52475fd2491397192e6cbbc6efc0e6232b898b45940b8d3259a"
   }
  }
 },
 "nbformat": 4,
 "nbformat_minor": 5
}
