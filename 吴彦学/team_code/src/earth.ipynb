{
 "cells": [
  {
   "cell_type": "code",
   "execution_count": null,
   "id": "032060d6",
   "metadata": {},
   "outputs": [],
   "source": [
    "from pyecharts.charts import MapGlobe\n",
    "from pyecharts.faker import POPULATION\n",
    "import pyecharts.options as opts\n",
    "data = [x for _, x in POPULATION[1:]]\n",
    "low, high = min(data), max(data)\n",
    "c = (\n",
    "    MapGlobe(init_opts=opts.InitOpts())\n",
    "    .add_schema()\n",
    "    .add(\n",
    "        maptype=\"world\",\n",
    "        series_name=\"World Population\",\n",
    "        data_pair=POPULATION[1:],\n",
    "        is_map_symbol_show=False,\n",
    "        label_opts=opts.LabelOpts(is_show=False),\n",
    "    )\n",
    "    .set_global_opts(\n",
    "        visualmap_opts=opts.VisualMapOpts(\n",
    "            min_=low,\n",
    "            max_=high,\n",
    "            range_text=[\"max\", \"min\"],\n",
    "            is_calculable=True,\n",
    "            is_piecewise=True,\n",
    "            range_color=[\"lightskyblue\", \"yellow\", \"orangered\"],\n",
    "        )\n",
    "    )\n",
    ")\n",
    "\n",
    "c.render_notebook()\n",
    "\n"
   ]
  },
  {
   "cell_type": "code",
   "execution_count": null,
   "id": "8bc0de07",
   "metadata": {},
   "outputs": [],
   "source": [
    "n = 2000\n",
    "_sum = 0\n",
    "for i in range(n/2):\n",
    "    _sum += i\n",
    "print(_sum)"
   ]
  },
  {
   "cell_type": "code",
   "execution_count": null,
   "id": "174f3770",
   "metadata": {},
   "outputs": [],
   "source": [
    "if not a != b and not "
   ]
  }
 ],
 "metadata": {
  "interpreter": {
   "hash": "bb0cbac54d6cdbae60be2e6d83bf46fb7f752717ca2d60c579508701c83844df"
  },
  "kernelspec": {
   "display_name": "Python 3.10.0 64-bit",
   "name": "python3"
  },
  "language_info": {
   "codemirror_mode": {
    "name": "ipython",
    "version": 3
   },
   "file_extension": ".py",
   "mimetype": "text/x-python",
   "name": "python",
   "nbconvert_exporter": "python",
   "pygments_lexer": "ipython3",
   "version": "3.8.12"
  }
 },
 "nbformat": 4,
 "nbformat_minor": 5
}
